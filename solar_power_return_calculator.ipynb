{
  "nbformat": 4,
  "nbformat_minor": 0,
  "metadata": {
    "colab": {
      "provenance": [],
      "authorship_tag": "ABX9TyNMusthfyHtL1seAhQzkV6G",
      "include_colab_link": true
    },
    "kernelspec": {
      "name": "python3",
      "display_name": "Python 3"
    },
    "language_info": {
      "name": "python"
    }
  },
  "cells": [
    {
      "cell_type": "markdown",
      "metadata": {
        "id": "view-in-github",
        "colab_type": "text"
      },
      "source": [
        "<a href=\"https://colab.research.google.com/github/jchhapekar/solar_generator_roi/blob/main/solar_power_return_calculator.ipynb\" target=\"_parent\"><img src=\"https://colab.research.google.com/assets/colab-badge.svg\" alt=\"Open In Colab\"/></a>"
      ]
    },
    {
      "cell_type": "markdown",
      "source": [
        "**Calculates the percentage returns for different consumptions given capacity of**\n",
        "**Solar power plant installed on rofftop in \"Net Metering\" Configuration**\n"
      ],
      "metadata": {
        "id": "72HOHh_X9GTm"
      }
    },
    {
      "cell_type": "code",
      "source": [
        "# Following are the parameters of the program. Tweak these values as per your requirements\n",
        "MONTHLY_UNITS_PRODUCED = 400 # Number of units produced by solar plant per month\n",
        "COST_OF_PLANT = 350000 # The cost of plant in Rs which produce above average monthly units\n",
        "\n",
        "PER_UNIT_EXPORT_PRICE = 4.02 # Export price promised by BESCOM for every unit exported from the house\n",
        "\n",
        "# Different slabs and rates for BESCOM. Code each slab as below:\n",
        "# [starting units, ending units, price per unit for the slab]\n",
        "\n",
        "slabs = [[1, 50, 4.15],\n",
        "         [51, 100, 5.60],\n",
        "         [101, 200, 7.15],\n",
        "         [201, 100000, 8.20]] # It is first number & above\n",
        "\n",
        "TAX_PERCENTAGE = 0.09 # Tax on above charges\n",
        "\n",
        "FIXED_CHARGES = 1090.00 # 1090 Rs as of now for 10KW Sanctioned Load"
      ],
      "metadata": {
        "id": "xn0EPLE5-LLr"
      },
      "execution_count": 1,
      "outputs": []
    },
    {
      "cell_type": "code",
      "source": [
        "#Calculate energy charges based on number of units consumed\n",
        "\n",
        "def calculate_energy_charges(units):\n",
        "  remaining_units = units\n",
        "  charges = 0.0\n",
        "  for slab in slabs:\n",
        "    units_in_slab = slab[1] - slab[0] + 1\n",
        "    if remaining_units < units_in_slab:\n",
        "      units = remaining_units\n",
        "    else:\n",
        "      units = units_in_slab\n",
        "    charges = charges + units * slab[2]\n",
        "    remaining_units = remaining_units - units_in_slab\n",
        "    if remaining_units <= 0:\n",
        "      break\n",
        "  #print(\"Charges without Tax:\", charges)\n",
        "  return charges * (1 + TAX_PERCENTAGE)\n"
      ],
      "metadata": {
        "id": "Y2V_WUW2-a_w"
      },
      "execution_count": 2,
      "outputs": []
    },
    {
      "cell_type": "code",
      "source": [
        "calculate_energy_charges(100)"
      ],
      "metadata": {
        "colab": {
          "base_uri": "https://localhost:8080/"
        },
        "id": "Ffa0ceBSkzgL",
        "outputId": "a4124757-334f-4c4d-cb16-093b2e04c9b9"
      },
      "execution_count": 3,
      "outputs": [
        {
          "output_type": "execute_result",
          "data": {
            "text/plain": [
              "531.375"
            ]
          },
          "metadata": {},
          "execution_count": 3
        }
      ]
    },
    {
      "cell_type": "code",
      "source": [
        "def compute_electricity_bill(units):\n",
        "  return calculate_energy_charges(units) + FIXED_CHARGES"
      ],
      "metadata": {
        "id": "D7RMNed9-jlE"
      },
      "execution_count": 4,
      "outputs": []
    },
    {
      "cell_type": "code",
      "source": [
        "compute_electricity_bill(0)"
      ],
      "metadata": {
        "colab": {
          "base_uri": "https://localhost:8080/"
        },
        "id": "b0PNGD7Z-5f5",
        "outputId": "5759ce97-cba5-4fbc-e6b3-d9ca62b304fe"
      },
      "execution_count": 5,
      "outputs": [
        {
          "output_type": "execute_result",
          "data": {
            "text/plain": [
              "1090.0"
            ]
          },
          "metadata": {},
          "execution_count": 5
        }
      ]
    },
    {
      "cell_type": "code",
      "source": [
        "# Negative value here would indicates payment from BESCOM to consumer.\n",
        "# Positive values indicate amount payable by individual\n",
        "def compute_net_electricity_bill(units_produced, units_consumed):\n",
        "  units_for_billing = 0\n",
        "  payable_by_bescom = 0.0\n",
        "  payable_by_consumer = 0.0\n",
        "  net_units_exported = 0\n",
        "  if units_produced > units_consumed:\n",
        "    net_units_exported = units_produced - units_consumed\n",
        "    units_for_billing = 0 # Keeping this line only for readability\n",
        "  elif units_produced <= units_consumed:\n",
        "    units_for_billing = units_consumed - units_produced\n",
        "    net_units_exported = 0 # Keeping this line only for readability\n",
        "  payable_by_bescom = net_units_exported * PER_UNIT_EXPORT_PRICE\n",
        "  payable_by_consumer = compute_electricity_bill(units_for_billing)\n",
        "  return payable_by_consumer - payable_by_bescom"
      ],
      "metadata": {
        "id": "bLNuGaOB_CBU"
      },
      "execution_count": 6,
      "outputs": []
    },
    {
      "cell_type": "code",
      "source": [
        "compute_net_electricity_bill(400, 0)"
      ],
      "metadata": {
        "colab": {
          "base_uri": "https://localhost:8080/"
        },
        "id": "RoB0XrEq_OnG",
        "outputId": "778d6c93-352a-49dc-99a1-eff7c2174911"
      },
      "execution_count": 7,
      "outputs": [
        {
          "output_type": "execute_result",
          "data": {
            "text/plain": [
              "-517.9999999999998"
            ]
          },
          "metadata": {},
          "execution_count": 7
        }
      ]
    },
    {
      "cell_type": "code",
      "source": [
        "# Compute percentage ROI in terms of per anum returns on given capital expenditure\n",
        "# and per month production vs consumption\n",
        "def compute_percentage_roi(units_produced, units_consumed, capital_cost):\n",
        "  bill_wo_solar = compute_electricity_bill(units_consumed)\n",
        "  bill_with_solar = compute_net_electricity_bill(units_produced, units_consumed)\n",
        "  net_gain_due_to_solar = bill_wo_solar - bill_with_solar\n",
        "  return ((net_gain_due_to_solar * 12)/capital_cost)*100\n"
      ],
      "metadata": {
        "id": "UQPfwkbD_Tn6"
      },
      "execution_count": 8,
      "outputs": []
    },
    {
      "cell_type": "code",
      "source": [
        "compute_percentage_roi(400, 400, 350000)"
      ],
      "metadata": {
        "colab": {
          "base_uri": "https://localhost:8080/"
        },
        "id": "j3m4g4UM_l9a",
        "outputId": "72643a49-ef15-4c63-d903-3130a6476d4a"
      },
      "execution_count": 9,
      "outputs": [
        {
          "output_type": "execute_result",
          "data": {
            "text/plain": [
              "10.622828571428574"
            ]
          },
          "metadata": {},
          "execution_count": 9
        }
      ]
    },
    {
      "cell_type": "code",
      "source": [
        "compute_percentage_roi(400, 200, 350000)"
      ],
      "metadata": {
        "colab": {
          "base_uri": "https://localhost:8080/"
        },
        "id": "-CWe9utrz5EY",
        "outputId": "a133ba7f-921e-49c1-9b45-60003e445f2d"
      },
      "execution_count": 10,
      "outputs": [
        {
          "output_type": "execute_result",
          "data": {
            "text/plain": [
              "7.250485714285714"
            ]
          },
          "metadata": {},
          "execution_count": 10
        }
      ]
    },
    {
      "cell_type": "code",
      "source": [
        "compute_percentage_roi(400, 500, 350000)"
      ],
      "metadata": {
        "colab": {
          "base_uri": "https://localhost:8080/"
        },
        "id": "DM_M0ffY0BZb",
        "outputId": "34a20bee-c271-40cc-94d1-68310ca7e2ca"
      },
      "execution_count": 11,
      "outputs": [
        {
          "output_type": "execute_result",
          "data": {
            "text/plain": [
              "11.865428571428572"
            ]
          },
          "metadata": {},
          "execution_count": 11
        }
      ]
    },
    {
      "cell_type": "code",
      "source": [
        "roi_table_400_units_production = []\n",
        "for consumed in range(0, 1001):\n",
        "  roi = compute_percentage_roi(MONTHLY_UNITS_PRODUCED, consumed, COST_OF_PLANT)\n",
        "  roi_table_400_units_production.append(roi)"
      ],
      "metadata": {
        "id": "E7hg4JmX_t8v"
      },
      "execution_count": 12,
      "outputs": []
    },
    {
      "cell_type": "code",
      "source": [
        "import matplotlib.pyplot as plt"
      ],
      "metadata": {
        "id": "2RzGtNQqHUBL"
      },
      "execution_count": 13,
      "outputs": []
    },
    {
      "cell_type": "code",
      "source": [
        "plt.figure(figsize=(20, 10))\n",
        "plt.xlabel(\"Consumed Units (KWh)\")\n",
        "plt.ylabel(\"ROI Percentage\")\n",
        "plt.title(\"ROI of solar unit generating 400 KWh per month\")\n",
        "plt.plot(roi_table_400_units_production)"
      ],
      "metadata": {
        "colab": {
          "base_uri": "https://localhost:8080/",
          "height": 639
        },
        "id": "xQ9NRvta1rWX",
        "outputId": "8cb47773-1d92-457a-dd2c-247e0e38c260"
      },
      "execution_count": 14,
      "outputs": [
        {
          "output_type": "execute_result",
          "data": {
            "text/plain": [
              "[<matplotlib.lines.Line2D at 0x7f74c18d8100>]"
            ]
          },
          "metadata": {},
          "execution_count": 14
        },
        {
          "output_type": "display_data",
          "data": {
            "text/plain": [
              "<Figure size 1440x720 with 1 Axes>"
            ],
            "image/png": "[encoded data removed]"
          },
          "metadata": {
            "needs_background": "light"
          }
        }
      ]
    },
    {
      "cell_type": "code",
      "source": [
        "monthly_consumption = 800 # In KWh\n",
        "\n",
        "def plant_cost_for_given_production(production):\n",
        "  cost_to_produce_per_unit_solar = 350000.00/400\n",
        "  if production == 0:\n",
        "    return 1\n",
        "  return production * cost_to_produce_per_unit_solar\n",
        "\n",
        "roi_table_sweep_across_production = []\n",
        "for produced in range(0, monthly_consumption * 3):\n",
        "  plant_cost = plant_cost_for_given_production(produced)\n",
        "  roi = compute_percentage_roi(produced, monthly_consumption, plant_cost)\n",
        "  roi_table_sweep_across_production.append(roi)"
      ],
      "metadata": {
        "id": "sWJheua9RZ5m"
      },
      "execution_count": 15,
      "outputs": []
    },
    {
      "cell_type": "code",
      "source": [
        "plt.figure(figsize=(20, 10))\n",
        "plt.xlabel(\"Produced Units or capacity (KWh)\")\n",
        "plt.ylabel(\"ROI Percentage\")\n",
        "plt.title(\"ROI of solar unit with different capcity for monthly consumption of 800 Units\")\n",
        "plt.plot(roi_table_sweep_across_production)"
      ],
      "metadata": {
        "colab": {
          "base_uri": "https://localhost:8080/",
          "height": 639
        },
        "id": "IxBemhEO6wFn",
        "outputId": "7c7a169b-b8d3-457a-a9c3-d31a8c24de1b"
      },
      "execution_count": 16,
      "outputs": [
        {
          "output_type": "execute_result",
          "data": {
            "text/plain": [
              "[<matplotlib.lines.Line2D at 0x7f74c139f430>]"
            ]
          },
          "metadata": {},
          "execution_count": 16
        },
        {
          "output_type": "display_data",
          "data": {
            "text/plain": [
              "<Figure size 1440x720 with 1 Axes>"
            ],
            "image/png": "[encoded data removed]"
          },
          "metadata": {
            "needs_background": "light"
          }
        }
      ]
    }
  ]
}